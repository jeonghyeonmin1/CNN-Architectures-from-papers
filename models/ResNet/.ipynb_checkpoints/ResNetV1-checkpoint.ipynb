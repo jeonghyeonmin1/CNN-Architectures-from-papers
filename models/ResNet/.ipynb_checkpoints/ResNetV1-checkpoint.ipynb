{
 "cells": [
  {
   "cell_type": "code",
   "execution_count": 1,
   "id": "407ec1c7-9c88-4ef2-a2b3-4dbb30abbeea",
   "metadata": {},
   "outputs": [
    {
     "name": "stderr",
     "output_type": "stream",
     "text": [
      "2025-07-14 09:19:55.943092: I tensorflow/core/platform/cpu_feature_guard.cc:193] This TensorFlow binary is optimized with oneAPI Deep Neural Network Library (oneDNN) to use the following CPU instructions in performance-critical operations:  AVX2 AVX512F AVX512_VNNI FMA\n",
      "To enable them in other operations, rebuild TensorFlow with the appropriate compiler flags.\n",
      "2025-07-14 09:19:56.052869: I tensorflow/core/util/util.cc:169] oneDNN custom operations are on. You may see slightly different numerical results due to floating-point round-off errors from different computation orders. To turn them off, set the environment variable `TF_ENABLE_ONEDNN_OPTS=0`.\n",
      "2025-07-14 09:19:56.081063: E tensorflow/stream_executor/cuda/cuda_blas.cc:2981] Unable to register cuBLAS factory: Attempting to register factory for plugin cuBLAS when one has already been registered\n",
      "/usr/lib/python3/dist-packages/requests/__init__.py:89: RequestsDependencyWarning: urllib3 (2.2.3) or chardet (3.0.4) doesn't match a supported version!\n",
      "  warnings.warn(\"urllib3 ({}) or chardet ({}) doesn't match a supported \"\n"
     ]
    }
   ],
   "source": [
    "import tensorflow as tf\n",
    "import numpy as np\n",
    "import matplotlib.pyplot as plt"
   ]
  },
  {
   "cell_type": "code",
   "execution_count": 2,
   "id": "8a8b0ae3-f551-437c-b128-5f5d458527e5",
   "metadata": {},
   "outputs": [],
   "source": [
    "mnist = tf.keras.datasets.mnist\n",
    "(x_train, y_train), (x_test, y_test) = mnist.load_data()"
   ]
  },
  {
   "cell_type": "code",
   "execution_count": 3,
   "id": "6a5b1d94-b4a6-46e1-b465-4083b73d1e30",
   "metadata": {},
   "outputs": [
    {
     "data": {
      "text/plain": [
       "<matplotlib.image.AxesImage at 0x7f9bd4661040>"
      ]
     },
     "execution_count": 3,
     "metadata": {},
     "output_type": "execute_result"
    },
    {
     "data": {
      "image/png": "[encoded data removed]",
      "text/plain": [
       "<Figure size 640x480 with 1 Axes>"
      ]
     },
     "metadata": {},
     "output_type": "display_data"
    }
   ],
   "source": [
    "import matplotlib.pyplot as plt\n",
    "\n",
    "plt.imshow(x_train[2])"
   ]
  },
  {
   "cell_type": "code",
   "execution_count": 4,
   "id": "de1dd506-884c-4fa4-aba7-d11587641657",
   "metadata": {},
   "outputs": [],
   "source": [
    "class Residual_block(tf.keras.layers.Layer):\n",
    "    def __init__(self, filters, kernel_size=1, stride=1):\n",
    "        super(Residual_block, self).__init__()\n",
    "        self.filters=filters\n",
    "        self.kernel_size=kernel_size\n",
    "        self.stride=stride\n",
    "        \n",
    "        self.conv1=tf.keras.layers.Conv2D(filters=self.filters, \n",
    "                                          kernel_size=self.kernel_size, \n",
    "                                          strides=stride,\n",
    "                                          padding='same')\n",
    "        \n",
    "        self.conv2=tf.keras.layers.Conv2D(filters=self.filters,\n",
    "                                          kernel_size=self.kernel_size*3,\n",
    "                                          strides=stride,\n",
    "                                         padding='same')\n",
    "        \n",
    "        self.conv3=tf.keras.layers.Conv2D(filters=self.filters*4,\n",
    "                                         kernel_size=self.kernel_size,\n",
    "                                         strides=stride,\n",
    "                                         padding='same')\n",
    "        \n",
    "        self.conv_skip=tf.keras.layers.Conv2D(filters=self.filters*4,\n",
    "                                             kernel_size=1,\n",
    "                                             strides=1,\n",
    "                                             padding='same')\n",
    "        \n",
    "        self.bn1=tf.keras.layers.BatchNormalization()\n",
    "        self.bn2=tf.keras.layers.BatchNormalization()\n",
    "        self.bn3=tf.keras.layers.BatchNormalization()\n",
    "        self.bn_skip=tf.keras.layers.BatchNormalization()\n",
    "        \n",
    "        self.act0=tf.keras.layers.Activation('relu')\n",
    "        self.act1=tf.keras.layers.Activation('relu')\n",
    "        self.act2=tf.keras.layers.Activation('relu')\n",
    "        self.act3=tf.keras.layers.Activation('relu')\n",
    "        \n",
    "        \n",
    "    def build(self, input_shape):\n",
    "        self.batch, self.height, self.width, self.channel=input_shape\n",
    "    \n",
    "    \n",
    "    def call(self, inputs):\n",
    "        # 블럭이 처음 들어올 64로 들어오면 출력 차원과 다름 그래서 64*4=256으로 채널을 맞춰줌\n",
    "        if inputs.shape[-1]!=self.filters*4:\n",
    "            x_skip=self.conv_skip(inputs)\n",
    "            x_skip=self.bn_skip(x_skip)\n",
    "            x_skip=self.act0(x_skip)\n",
    "        # 근데 같은 채널을 가진 블럭을 여러번 지나면 이미 입력 차원이 출력 차원일테니 x_skip을 inputs으로 지정해주면 됨\n",
    "        else:\n",
    "            x_skip=inputs\n",
    "\n",
    "        x=self.conv1(inputs)\n",
    "        x=self.bn1(x)\n",
    "        x=self.act1(x)\n",
    "        \n",
    "        x=self.conv2(x)\n",
    "        x=self.bn2(x)\n",
    "        x=self.act2(x)\n",
    "        \n",
    "        x=self.conv3(x)\n",
    "        x=self.bn3(x)\n",
    "        x=self.act3(x)\n",
    "        \n",
    "        outputs=tf.keras.layers.Add()([x,x_skip])\n",
    "        \n",
    "        return outputs"
   ]
  },
  {
   "cell_type": "code",
   "execution_count": 5,
   "id": "9f42a1a0-c89f-40d1-b18a-66c604e70dad",
   "metadata": {},
   "outputs": [
    {
     "name": "stderr",
     "output_type": "stream",
     "text": [
      "2025-07-14 09:19:58.298146: I tensorflow/core/platform/cpu_feature_guard.cc:193] This TensorFlow binary is optimized with oneAPI Deep Neural Network Library (oneDNN) to use the following CPU instructions in performance-critical operations:  AVX2 AVX512F AVX512_VNNI FMA\n",
      "To enable them in other operations, rebuild TensorFlow with the appropriate compiler flags.\n",
      "2025-07-14 09:19:58.731774: I tensorflow/core/common_runtime/gpu/gpu_device.cc:1616] Created device /job:localhost/replica:0/task:0/device:GPU:0 with 20839 MB memory:  -> device: 0, name: NVIDIA GeForce RTX 3090, pci bus id: 0000:17:00.0, compute capability: 8.6\n"
     ]
    }
   ],
   "source": [
    "inputs=tf.keras.layers.Input((28,28,1))\n",
    "\n",
    "x=inputs\n",
    "x=Residual_block(64,1,1)(x)\n",
    "x=Residual_block(64,1,1)(x)\n",
    "x=Residual_block(64,1,1)(x)\n",
    "x=tf.keras.layers.MaxPool2D()(x)\n",
    "\n",
    "x=Residual_block(128,1,1)(x)\n",
    "x=Residual_block(128,1,1)(x)\n",
    "x=Residual_block(128,1,1)(x)\n",
    "x=Residual_block(128,1,1)(x)\n",
    "x=tf.keras.layers.MaxPool2D()(x)\n",
    "\n",
    "x=Residual_block(256)(x)\n",
    "x=Residual_block(256)(x)\n",
    "x=Residual_block(256)(x)\n",
    "x=Residual_block(256)(x)\n",
    "x=Residual_block(256)(x)\n",
    "x=Residual_block(256)(x)\n",
    "x=tf.keras.layers.MaxPool2D()(x)\n",
    "\n",
    "x=Residual_block(512)(x)\n",
    "x=Residual_block(512)(x)\n",
    "x=Residual_block(512)(x)\n",
    "\n",
    "x=tf.keras.layers.GlobalAveragePooling2D()(x)\n",
    "\n",
    "x=tf.keras.layers.Dense(1000, activation='relu')(x)\n",
    "outputs=tf.keras.layers.Dense(10, activation='softmax')(x)\n",
    "\n",
    "model=tf.keras.Model(inputs=inputs, outputs=outputs)"
   ]
  },
  {
   "cell_type": "code",
   "execution_count": 6,
   "id": "74d57341-e34b-4504-bc9b-31284d1f6253",
   "metadata": {
    "scrolled": true,
    "tags": []
   },
   "outputs": [
    {
     "name": "stdout",
     "output_type": "stream",
     "text": [
      "Model: \"model\"\n",
      "_________________________________________________________________\n",
      " Layer (type)                Output Shape              Param #   \n",
      "=================================================================\n",
      " input_1 (InputLayer)        [(None, 28, 28, 1)]       0         \n",
      "                                                                 \n",
      " residual_block (Residual_bl  (None, 28, 28, 256)      56768     \n",
      " ock)                                                            \n",
      "                                                                 \n",
      " residual_block_1 (Residual_  (None, 28, 28, 256)      71552     \n",
      " block)                                                          \n",
      "                                                                 \n",
      " residual_block_2 (Residual_  (None, 28, 28, 256)      71552     \n",
      " block)                                                          \n",
      "                                                                 \n",
      " max_pooling2d (MaxPooling2D  (None, 14, 14, 256)      0         \n",
      " )                                                               \n",
      "                                                                 \n",
      " residual_block_3 (Residual_  (None, 14, 14, 512)      383232    \n",
      " block)                                                          \n",
      "                                                                 \n",
      " residual_block_4 (Residual_  (None, 14, 14, 512)      282368    \n",
      " block)                                                          \n",
      "                                                                 \n",
      " residual_block_5 (Residual_  (None, 14, 14, 512)      282368    \n",
      " block)                                                          \n",
      "                                                                 \n",
      " residual_block_6 (Residual_  (None, 14, 14, 512)      282368    \n",
      " block)                                                          \n",
      "                                                                 \n",
      " max_pooling2d_1 (MaxPooling  (None, 7, 7, 512)        0         \n",
      " 2D)                                                             \n",
      "                                                                 \n",
      " residual_block_7 (Residual_  (None, 7, 7, 1024)       1520128   \n",
      " block)                                                          \n",
      "                                                                 \n",
      " residual_block_8 (Residual_  (None, 7, 7, 1024)       1121792   \n",
      " block)                                                          \n",
      "                                                                 \n",
      " residual_block_9 (Residual_  (None, 7, 7, 1024)       1121792   \n",
      " block)                                                          \n",
      "                                                                 \n",
      " residual_block_10 (Residual  (None, 7, 7, 1024)       1121792   \n",
      " _block)                                                         \n",
      "                                                                 \n",
      " residual_block_11 (Residual  (None, 7, 7, 1024)       1121792   \n",
      " _block)                                                         \n",
      "                                                                 \n",
      " residual_block_12 (Residual  (None, 7, 7, 1024)       1121792   \n",
      " _block)                                                         \n",
      "                                                                 \n",
      " max_pooling2d_2 (MaxPooling  (None, 3, 3, 1024)       0         \n",
      " 2D)                                                             \n",
      "                                                                 \n",
      " residual_block_13 (Residual  (None, 3, 3, 2048)       6054912   \n",
      " _block)                                                         \n",
      "                                                                 \n",
      " residual_block_14 (Residual  (None, 3, 3, 2048)       4471808   \n",
      " _block)                                                         \n",
      "                                                                 \n",
      " residual_block_15 (Residual  (None, 3, 3, 2048)       4471808   \n",
      " _block)                                                         \n",
      "                                                                 \n",
      " global_average_pooling2d (G  (None, 2048)             0         \n",
      " lobalAveragePooling2D)                                          \n",
      "                                                                 \n",
      " dense (Dense)               (None, 1000)              2049000   \n",
      "                                                                 \n",
      " dense_1 (Dense)             (None, 10)                10010     \n",
      "                                                                 \n",
      "=================================================================\n",
      "Total params: 25,616,834\n",
      "Trainable params: 25,563,842\n",
      "Non-trainable params: 52,992\n",
      "_________________________________________________________________\n"
     ]
    }
   ],
   "source": [
    "model.summary()"
   ]
  },
  {
   "cell_type": "code",
   "execution_count": 7,
   "id": "41d4b24e-ce92-48cd-8b98-f6abd300e51b",
   "metadata": {},
   "outputs": [],
   "source": [
    "model.compile(optimizer=tf.keras.optimizers.Adam(),\n",
    "             loss=tf.keras.losses.SparseCategoricalCrossentropy(),\n",
    "             metrics=[tf.keras.metrics.SparseCategoricalAccuracy()])"
   ]
  },
  {
   "cell_type": "code",
   "execution_count": 8,
   "id": "e8d2ab1c-0706-45fd-863b-6c794040edd9",
   "metadata": {
    "scrolled": true,
    "tags": []
   },
   "outputs": [
    {
     "name": "stdout",
     "output_type": "stream",
     "text": [
      "Epoch 1/10\n"
     ]
    },
    {
     "name": "stderr",
     "output_type": "stream",
     "text": [
      "2025-07-14 09:20:04.770471: I tensorflow/stream_executor/cuda/cuda_blas.cc:1614] TensorFloat-32 will be used for the matrix multiplication. This will only be logged once.\n",
      "2025-07-14 09:20:05.192779: I tensorflow/stream_executor/cuda/cuda_dnn.cc:384] Loaded cuDNN version 8100\n"
     ]
    },
    {
     "name": "stdout",
     "output_type": "stream",
     "text": [
      "3750/3750 [==============================] - 90s 23ms/step - loss: 0.2685 - sparse_categorical_accuracy: 0.9319\n",
      "Epoch 2/10\n",
      " 457/3750 [==>...........................] - ETA: 1:15 - loss: 0.1070 - sparse_categorical_accuracy: 0.9675"
     ]
    },
    {
     "name": "stderr",
     "output_type": "stream",
     "text": [
      "\n",
      "KeyboardInterrupt\n",
      "\n"
     ]
    }
   ],
   "source": [
    "model.fit(x_train, \n",
    "          y_train,\n",
    "         batch_size=16,\n",
    "         epochs=10)"
   ]
  },
  {
   "cell_type": "code",
   "execution_count": 10,
   "id": "70fc27ce-1e49-4785-a5f4-f26d9df828e6",
   "metadata": {},
   "outputs": [
    {
     "name": "stdout",
     "output_type": "stream",
     "text": [
      "313/313 [==============================] - 3s 11ms/step - loss: 0.0807 - sparse_categorical_accuracy: 0.9790\n"
     ]
    }
   ],
   "source": [
    "loss, acc = model.evaluate(x_test, y_test)"
   ]
  }
 ],
 "metadata": {
  "kernelspec": {
   "display_name": "Python 3 (ipykernel)",
   "language": "python",
   "name": "python3"
  },
  "language_info": {
   "codemirror_mode": {
    "name": "ipython",
    "version": 3
   },
   "file_extension": ".py",
   "mimetype": "text/x-python",
   "name": "python",
   "nbconvert_exporter": "python",
   "pygments_lexer": "ipython3",
   "version": "3.8.10"
  }
 },
 "nbformat": 4,
 "nbformat_minor": 5
}
